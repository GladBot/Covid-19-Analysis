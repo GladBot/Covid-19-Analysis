{
  "nbformat": 4,
  "nbformat_minor": 0,
  "metadata": {
    "colab": {
      "name": "covid19.ipynb",
      "provenance": [],
      "authorship_tag": "ABX9TyMhE4FIWeyFYp8mgxNGFC7h",
      "include_colab_link": true
    },
    "kernelspec": {
      "name": "python3",
      "display_name": "Python 3"
    },
    "language_info": {
      "name": "python"
    }
  },
  "cells": [
    {
      "cell_type": "markdown",
      "metadata": {
        "id": "view-in-github",
        "colab_type": "text"
      },
      "source": [
        "<a href=\"https://colab.research.google.com/github/GladBot/Covid-19-Analysis/blob/main/covid19.ipynb\" target=\"_parent\"><img src=\"https://colab.research.google.com/assets/colab-badge.svg\" alt=\"Open In Colab\"/></a>"
      ]
    },
    {
      "cell_type": "code",
      "execution_count": null,
      "metadata": {
        "id": "PidBHBUszRJz"
      },
      "outputs": [],
      "source": [
        "import pandas as pd\n"
      ]
    },
    {
      "cell_type": "code",
      "source": [
        "data = pd.read_csv(\"/covid_19_india.csv\")"
      ],
      "metadata": {
        "id": "icw7Bm4g0GUq"
      },
      "execution_count": null,
      "outputs": []
    },
    {
      "cell_type": "code",
      "source": [
        "data"
      ],
      "metadata": {
        "id": "cPsRpdci0xNk"
      },
      "execution_count": null,
      "outputs": []
    },
    {
      "cell_type": "code",
      "source": [
        "data.rename(columns = {'State/UnionTerritory':'region'}, inplace = True)"
      ],
      "metadata": {
        "id": "vTaoAIsybMv1"
      },
      "execution_count": null,
      "outputs": []
    },
    {
      "cell_type": "code",
      "source": [
        "data.count()\n",
        "\n"
      ],
      "metadata": {
        "id": "i2OVUQO22VBh"
      },
      "execution_count": null,
      "outputs": []
    },
    {
      "cell_type": "code",
      "source": [
        "data.isnull().sum()"
      ],
      "metadata": {
        "id": "HXZKmc3B3iEN"
      },
      "execution_count": null,
      "outputs": []
    },
    {
      "cell_type": "markdown",
      "source": [
        "<!-- 2.\n",
        "import seaborn as sns\n",
        "import matplotlib.pylot as plt\n",
        "sns.heatmap(df.isnull())\n",
        "plt.show() -->"
      ],
      "metadata": {
        "id": "HuWkvKMc4NB2"
      }
    },
    {
      "cell_type": "code",
      "source": [
        "import seaborn as sns"
      ],
      "metadata": {
        "id": "g2Rp56a73xNY"
      },
      "execution_count": null,
      "outputs": []
    },
    {
      "cell_type": "code",
      "source": [
        "import matplotlib.pyplot as plt\n"
      ],
      "metadata": {
        "id": "-gdM63Uu5Fjg"
      },
      "execution_count": null,
      "outputs": []
    },
    {
      "cell_type": "code",
      "source": [
        "sns.heatmap(data.isnull())\n",
        "plt.show()"
      ],
      "metadata": {
        "colab": {
          "base_uri": "https://localhost:8080/",
          "height": 391
        },
        "id": "cJv0C-6e5NP2",
        "outputId": "0d788fd3-576a-4289-8850-e81496c4de65"
      },
      "execution_count": null,
      "outputs": [
        {
          "output_type": "display_data",
          "data": {
            "text/plain": [
              "<Figure size 432x288 with 2 Axes>"
            ],
            "image/png": "[encoded data removed]"
          },
          "metadata": {
            "needs_background": "light"
          }
        }
      ]
    },
    {
      "cell_type": "markdown",
      "source": [
        "**Show number of confired , death and recovered cases in each Region**\n"
      ],
      "metadata": {
        "id": "bWXHqKlZ6I1F"
      }
    },
    {
      "cell_type": "code",
      "source": [
        "data.head(2)"
      ],
      "metadata": {
        "colab": {
          "base_uri": "https://localhost:8080/",
          "height": 191
        },
        "id": "MpiIdMeB5auZ",
        "outputId": "5a2987b9-e45e-4cef-b98d-9d6ff3d922f5"
      },
      "execution_count": null,
      "outputs": [
        {
          "output_type": "execute_result",
          "data": {
            "text/plain": [
              "   Sno        Date     Time State/UnionTerritory ConfirmedIndianNational  \\\n",
              "0    1  2020-01-30  6:00 PM               Kerala                       1   \n",
              "1    2  2020-01-31  6:00 PM               Kerala                       1   \n",
              "\n",
              "  ConfirmedForeignNational  Cured  Deaths  Confirmed  \n",
              "0                        0      0       0          1  \n",
              "1                        0      0       0          1  "
            ],
            "text/html": [
              "\n",
              "  <div id=\"df-cee4fafd-f5e1-46cb-99ad-b4d13ddddbd7\">\n",
              "    <div class=\"colab-df-container\">\n",
              "      <div>\n",
              "<style scoped>\n",
              "    .dataframe tbody tr th:only-of-type {\n",
              "        vertical-align: middle;\n",
              "    }\n",
              "\n",
              "    .dataframe tbody tr th {\n",
              "        vertical-align: top;\n",
              "    }\n",
              "\n",
              "    .dataframe thead th {\n",
              "        text-align: right;\n",
              "    }\n",
              "</style>\n",
              "<table border=\"1\" class=\"dataframe\">\n",
              "  <thead>\n",
              "    <tr style=\"text-align: right;\">\n",
              "      <th></th>\n",
              "      <th>Sno</th>\n",
              "      <th>Date</th>\n",
              "      <th>Time</th>\n",
              "      <th>State/UnionTerritory</th>\n",
              "      <th>ConfirmedIndianNational</th>\n",
              "      <th>ConfirmedForeignNational</th>\n",
              "      <th>Cured</th>\n",
              "      <th>Deaths</th>\n",
              "      <th>Confirmed</th>\n",
              "    </tr>\n",
              "  </thead>\n",
              "  <tbody>\n",
              "    <tr>\n",
              "      <th>0</th>\n",
              "      <td>1</td>\n",
              "      <td>2020-01-30</td>\n",
              "      <td>6:00 PM</td>\n",
              "      <td>Kerala</td>\n",
              "      <td>1</td>\n",
              "      <td>0</td>\n",
              "      <td>0</td>\n",
              "      <td>0</td>\n",
              "      <td>1</td>\n",
              "    </tr>\n",
              "    <tr>\n",
              "      <th>1</th>\n",
              "      <td>2</td>\n",
              "      <td>2020-01-31</td>\n",
              "      <td>6:00 PM</td>\n",
              "      <td>Kerala</td>\n",
              "      <td>1</td>\n",
              "      <td>0</td>\n",
              "      <td>0</td>\n",
              "      <td>0</td>\n",
              "      <td>1</td>\n",
              "    </tr>\n",
              "  </tbody>\n",
              "</table>\n",
              "</div>\n",
              "      <button class=\"colab-df-convert\" onclick=\"convertToInteractive('df-cee4fafd-f5e1-46cb-99ad-b4d13ddddbd7')\"\n",
              "              title=\"Convert this dataframe to an interactive table.\"\n",
              "              style=\"display:none;\">\n",
              "        \n",
              "  <svg xmlns=\"http://www.w3.org/2000/svg\" height=\"24px\"viewBox=\"0 0 24 24\"\n",
              "       width=\"24px\">\n",
              "    <path d=\"M0 0h24v24H0V0z\" fill=\"none\"/>\n",
              "    <path d=\"M18.56 5.44l.94 2.06.94-2.06 2.06-.94-2.06-.94-.94-2.06-.94 2.06-2.06.94zm-11 1L8.5 8.5l.94-2.06 2.06-.94-2.06-.94L8.5 2.5l-.94 2.06-2.06.94zm10 10l.94 2.06.94-2.06 2.06-.94-2.06-.94-.94-2.06-.94 2.06-2.06.94z\"/><path d=\"M17.41 7.96l-1.37-1.37c-.4-.4-.92-.59-1.43-.59-.52 0-1.04.2-1.43.59L10.3 9.45l-7.72 7.72c-.78.78-.78 2.05 0 2.83L4 21.41c.39.39.9.59 1.41.59.51 0 1.02-.2 1.41-.59l7.78-7.78 2.81-2.81c.8-.78.8-2.07 0-2.86zM5.41 20L4 18.59l7.72-7.72 1.47 1.35L5.41 20z\"/>\n",
              "  </svg>\n",
              "      </button>\n",
              "      \n",
              "  <style>\n",
              "    .colab-df-container {\n",
              "      display:flex;\n",
              "      flex-wrap:wrap;\n",
              "      gap: 12px;\n",
              "    }\n",
              "\n",
              "    .colab-df-convert {\n",
              "      background-color: #E8F0FE;\n",
              "      border: none;\n",
              "      border-radius: 50%;\n",
              "      cursor: pointer;\n",
              "      display: none;\n",
              "      fill: #1967D2;\n",
              "      height: 32px;\n",
              "      padding: 0 0 0 0;\n",
              "      width: 32px;\n",
              "    }\n",
              "\n",
              "    .colab-df-convert:hover {\n",
              "      background-color: #E2EBFA;\n",
              "      box-shadow: 0px 1px 2px rgba(60, 64, 67, 0.3), 0px 1px 3px 1px rgba(60, 64, 67, 0.15);\n",
              "      fill: #174EA6;\n",
              "    }\n",
              "\n",
              "    [theme=dark] .colab-df-convert {\n",
              "      background-color: #3B4455;\n",
              "      fill: #D2E3FC;\n",
              "    }\n",
              "\n",
              "    [theme=dark] .colab-df-convert:hover {\n",
              "      background-color: #434B5C;\n",
              "      box-shadow: 0px 1px 3px 1px rgba(0, 0, 0, 0.15);\n",
              "      filter: drop-shadow(0px 1px 2px rgba(0, 0, 0, 0.3));\n",
              "      fill: #FFFFFF;\n",
              "    }\n",
              "  </style>\n",
              "\n",
              "      <script>\n",
              "        const buttonEl =\n",
              "          document.querySelector('#df-cee4fafd-f5e1-46cb-99ad-b4d13ddddbd7 button.colab-df-convert');\n",
              "        buttonEl.style.display =\n",
              "          google.colab.kernel.accessAllowed ? 'block' : 'none';\n",
              "\n",
              "        async function convertToInteractive(key) {\n",
              "          const element = document.querySelector('#df-cee4fafd-f5e1-46cb-99ad-b4d13ddddbd7');\n",
              "          const dataTable =\n",
              "            await google.colab.kernel.invokeFunction('convertToInteractive',\n",
              "                                                     [key], {});\n",
              "          if (!dataTable) return;\n",
              "\n",
              "          const docLinkHtml = 'Like what you see? Visit the ' +\n",
              "            '<a target=\"_blank\" href=https://colab.research.google.com/notebooks/data_table.ipynb>data table notebook</a>'\n",
              "            + ' to learn more about interactive tables.';\n",
              "          element.innerHTML = '';\n",
              "          dataTable['output_type'] = 'display_data';\n",
              "          await google.colab.output.renderOutput(dataTable, element);\n",
              "          const docLink = document.createElement('div');\n",
              "          docLink.innerHTML = docLinkHtml;\n",
              "          element.appendChild(docLink);\n",
              "        }\n",
              "      </script>\n",
              "    </div>\n",
              "  </div>\n",
              "  "
            ]
          },
          "metadata": {},
          "execution_count": 16
        }
      ]
    },
    {
      "cell_type": "code",
      "source": [
        "data.groupby('State/UnionTerritory').sum()"
      ],
      "metadata": {
        "id": "J3FlHS136_1U"
      },
      "execution_count": null,
      "outputs": []
    },
    {
      "cell_type": "code",
      "source": [
        "data.groupby('State/UnionTerritory').sum().head(20)\n",
        "\n"
      ],
      "metadata": {
        "id": "Af40YX_A7eiT"
      },
      "execution_count": null,
      "outputs": []
    },
    {
      "cell_type": "code",
      "source": [
        "data.groupby('State/UnionTerritory')['Cured'].sum()"
      ],
      "metadata": {
        "id": "jjLrtQ6WBHTN"
      },
      "execution_count": null,
      "outputs": []
    },
    {
      "cell_type": "code",
      "source": [
        "data.groupby('State/UnionTerritory')['Confirmed'].sum().sort_values(ascending=True)"
      ],
      "metadata": {
        "id": "xlrJpIKxBc1s"
      },
      "execution_count": null,
      "outputs": []
    },
    {
      "cell_type": "code",
      "source": [
        "data.groupby('State/UnionTerritory')['Cured','Deaths'].sum()"
      ],
      "metadata": {
        "id": "2q-t03N_CJU3"
      },
      "execution_count": null,
      "outputs": []
    },
    {
      "cell_type": "markdown",
      "source": [
        " ***Remove all records where confirmed cases is less than 100000 ***"
      ],
      "metadata": {
        "id": "9CeoxO5SDoPP"
      }
    },
    {
      "cell_type": "code",
      "source": [
        "data[data.Confirmed < 40000]"
      ],
      "metadata": {
        "id": "k9G0glXODFnj"
      },
      "execution_count": null,
      "outputs": []
    },
    {
      "cell_type": "code",
      "source": [
        "data[~(data.Confirmed < 40000)]"
      ],
      "metadata": {
        "id": "Y2bAeAC5Fn_S"
      },
      "execution_count": null,
      "outputs": []
    },
    {
      "cell_type": "code",
      "source": [
        "data"
      ],
      "metadata": {
        "id": "e7RtbLiIGCr3"
      },
      "execution_count": null,
      "outputs": []
    },
    {
      "cell_type": "code",
      "source": [
        "data = data[~(data.Confirmed < 40000)]"
      ],
      "metadata": {
        "id": "iU6S4AuxGWgS"
      },
      "execution_count": null,
      "outputs": []
    },
    {
      "cell_type": "markdown",
      "source": [
        "**In which region maximum number of confirmed cases were recorded ?**"
      ],
      "metadata": {
        "id": "E_JOhtuyHNVK"
      }
    },
    {
      "cell_type": "code",
      "source": [
        "data.groupby('State/UnionTerritory')['Confirmed'].sum().sort_values(ascending=False)"
      ],
      "metadata": {
        "id": "DiUdrtRcHKQp"
      },
      "execution_count": null,
      "outputs": []
    },
    {
      "cell_type": "code",
      "source": [
        "data.groupby('State/UnionTerritory')['Deaths'].sum().sort_values(ascending=True).head(5)"
      ],
      "metadata": {
        "id": "rdU12x_UI6F9"
      },
      "execution_count": null,
      "outputs": []
    },
    {
      "cell_type": "markdown",
      "source": [
        "**How many death cases have been recorded in Uttar Pradesh since 22-5-2020 ?**"
      ],
      "metadata": {
        "id": "X94ZkwXrJgF0"
      }
    },
    {
      "cell_type": "code",
      "source": [
        "data[data.region == 'Uttar Pradesh']"
      ],
      "metadata": {
        "id": "8Jcaq7bnJcEA"
      },
      "execution_count": null,
      "outputs": []
    },
    {
      "cell_type": "markdown",
      "source": [
        "**Sort the entire data wrt NO. of confirmed cases in ascending order**"
      ],
      "metadata": {
        "id": "Txg8HIG6mjZV"
      }
    },
    {
      "cell_type": "code",
      "source": [
        "data.sort_values(by = ['Confirmed'], ascending=True)"
      ],
      "metadata": {
        "id": "AoKyATI8mVL7"
      },
      "execution_count": null,
      "outputs": []
    },
    {
      "cell_type": "markdown",
      "source": [
        "**Sort the entire data wrt NO. of Recovered cases in decending order**"
      ],
      "metadata": {
        "id": "_8LxRzd0oBa_"
      }
    },
    {
      "cell_type": "code",
      "source": [
        "data.sort_values(by = ['Cured'], ascending=True)"
      ],
      "metadata": {
        "colab": {
          "base_uri": "https://localhost:8080/",
          "height": 641
        },
        "id": "oaKvPQQrJbRX",
        "outputId": "e05586aa-b3e2-460d-e7cf-cd8857336c74"
      },
      "execution_count": null,
      "outputs": [
        {
          "output_type": "execute_result",
          "data": {
            "text/plain": [
              "         Sno        Date     Time       region ConfirmedIndianNational  \\\n",
              "2187    2188  2020-05-22  8:00 AM  Maharashtra                       -   \n",
              "2221    2222  2020-05-23  8:00 AM  Maharashtra                       -   \n",
              "2255    2256  2020-05-24  8:00 AM  Maharashtra                       -   \n",
              "2290    2291  2020-05-25  8:00 AM  Maharashtra                       -   \n",
              "2325    2326  2020-05-26  8:00 AM  Maharashtra                       -   \n",
              "...      ...         ...      ...          ...                     ...   \n",
              "17950  17951  2021-08-07  8:00 AM  Maharashtra                       -   \n",
              "17986  17987  2021-08-08  8:00 AM  Maharashtra                       -   \n",
              "18022  18023  2021-08-09  8:00 AM  Maharashtra                       -   \n",
              "18058  18059  2021-08-10  8:00 AM  Maharashtra                       -   \n",
              "18094  18095  2021-08-11  8:00 AM  Maharashtra                       -   \n",
              "\n",
              "      ConfirmedForeignNational    Cured  Deaths  Confirmed  \n",
              "2187                         -    11726    1454      41642  \n",
              "2221                         -    12583    1517      44582  \n",
              "2255                         -    13404    1577      47190  \n",
              "2290                         -    14600    1635      50231  \n",
              "2325                         -    15786    1695      52667  \n",
              "...                        ...      ...     ...        ...  \n",
              "17950                        -  6130137  133717    6341759  \n",
              "17986                        -  6139493  133845    6347820  \n",
              "18022                        -  6144388  133996    6353328  \n",
              "18058                        -  6151956  134064    6357833  \n",
              "18094                        -  6159676  134201    6363442  \n",
              "\n",
              "[9041 rows x 9 columns]"
            ],
            "text/html": [
              "\n",
              "  <div id=\"df-93673ea8-fa74-45bc-a6a0-a32c7c2a0df6\">\n",
              "    <div class=\"colab-df-container\">\n",
              "      <div>\n",
              "<style scoped>\n",
              "    .dataframe tbody tr th:only-of-type {\n",
              "        vertical-align: middle;\n",
              "    }\n",
              "\n",
              "    .dataframe tbody tr th {\n",
              "        vertical-align: top;\n",
              "    }\n",
              "\n",
              "    .dataframe thead th {\n",
              "        text-align: right;\n",
              "    }\n",
              "</style>\n",
              "<table border=\"1\" class=\"dataframe\">\n",
              "  <thead>\n",
              "    <tr style=\"text-align: right;\">\n",
              "      <th></th>\n",
              "      <th>Sno</th>\n",
              "      <th>Date</th>\n",
              "      <th>Time</th>\n",
              "      <th>region</th>\n",
              "      <th>ConfirmedIndianNational</th>\n",
              "      <th>ConfirmedForeignNational</th>\n",
              "      <th>Cured</th>\n",
              "      <th>Deaths</th>\n",
              "      <th>Confirmed</th>\n",
              "    </tr>\n",
              "  </thead>\n",
              "  <tbody>\n",
              "    <tr>\n",
              "      <th>2187</th>\n",
              "      <td>2188</td>\n",
              "      <td>2020-05-22</td>\n",
              "      <td>8:00 AM</td>\n",
              "      <td>Maharashtra</td>\n",
              "      <td>-</td>\n",
              "      <td>-</td>\n",
              "      <td>11726</td>\n",
              "      <td>1454</td>\n",
              "      <td>41642</td>\n",
              "    </tr>\n",
              "    <tr>\n",
              "      <th>2221</th>\n",
              "      <td>2222</td>\n",
              "      <td>2020-05-23</td>\n",
              "      <td>8:00 AM</td>\n",
              "      <td>Maharashtra</td>\n",
              "      <td>-</td>\n",
              "      <td>-</td>\n",
              "      <td>12583</td>\n",
              "      <td>1517</td>\n",
              "      <td>44582</td>\n",
              "    </tr>\n",
              "    <tr>\n",
              "      <th>2255</th>\n",
              "      <td>2256</td>\n",
              "      <td>2020-05-24</td>\n",
              "      <td>8:00 AM</td>\n",
              "      <td>Maharashtra</td>\n",
              "      <td>-</td>\n",
              "      <td>-</td>\n",
              "      <td>13404</td>\n",
              "      <td>1577</td>\n",
              "      <td>47190</td>\n",
              "    </tr>\n",
              "    <tr>\n",
              "      <th>2290</th>\n",
              "      <td>2291</td>\n",
              "      <td>2020-05-25</td>\n",
              "      <td>8:00 AM</td>\n",
              "      <td>Maharashtra</td>\n",
              "      <td>-</td>\n",
              "      <td>-</td>\n",
              "      <td>14600</td>\n",
              "      <td>1635</td>\n",
              "      <td>50231</td>\n",
              "    </tr>\n",
              "    <tr>\n",
              "      <th>2325</th>\n",
              "      <td>2326</td>\n",
              "      <td>2020-05-26</td>\n",
              "      <td>8:00 AM</td>\n",
              "      <td>Maharashtra</td>\n",
              "      <td>-</td>\n",
              "      <td>-</td>\n",
              "      <td>15786</td>\n",
              "      <td>1695</td>\n",
              "      <td>52667</td>\n",
              "    </tr>\n",
              "    <tr>\n",
              "      <th>...</th>\n",
              "      <td>...</td>\n",
              "      <td>...</td>\n",
              "      <td>...</td>\n",
              "      <td>...</td>\n",
              "      <td>...</td>\n",
              "      <td>...</td>\n",
              "      <td>...</td>\n",
              "      <td>...</td>\n",
              "      <td>...</td>\n",
              "    </tr>\n",
              "    <tr>\n",
              "      <th>17950</th>\n",
              "      <td>17951</td>\n",
              "      <td>2021-08-07</td>\n",
              "      <td>8:00 AM</td>\n",
              "      <td>Maharashtra</td>\n",
              "      <td>-</td>\n",
              "      <td>-</td>\n",
              "      <td>6130137</td>\n",
              "      <td>133717</td>\n",
              "      <td>6341759</td>\n",
              "    </tr>\n",
              "    <tr>\n",
              "      <th>17986</th>\n",
              "      <td>17987</td>\n",
              "      <td>2021-08-08</td>\n",
              "      <td>8:00 AM</td>\n",
              "      <td>Maharashtra</td>\n",
              "      <td>-</td>\n",
              "      <td>-</td>\n",
              "      <td>6139493</td>\n",
              "      <td>133845</td>\n",
              "      <td>6347820</td>\n",
              "    </tr>\n",
              "    <tr>\n",
              "      <th>18022</th>\n",
              "      <td>18023</td>\n",
              "      <td>2021-08-09</td>\n",
              "      <td>8:00 AM</td>\n",
              "      <td>Maharashtra</td>\n",
              "      <td>-</td>\n",
              "      <td>-</td>\n",
              "      <td>6144388</td>\n",
              "      <td>133996</td>\n",
              "      <td>6353328</td>\n",
              "    </tr>\n",
              "    <tr>\n",
              "      <th>18058</th>\n",
              "      <td>18059</td>\n",
              "      <td>2021-08-10</td>\n",
              "      <td>8:00 AM</td>\n",
              "      <td>Maharashtra</td>\n",
              "      <td>-</td>\n",
              "      <td>-</td>\n",
              "      <td>6151956</td>\n",
              "      <td>134064</td>\n",
              "      <td>6357833</td>\n",
              "    </tr>\n",
              "    <tr>\n",
              "      <th>18094</th>\n",
              "      <td>18095</td>\n",
              "      <td>2021-08-11</td>\n",
              "      <td>8:00 AM</td>\n",
              "      <td>Maharashtra</td>\n",
              "      <td>-</td>\n",
              "      <td>-</td>\n",
              "      <td>6159676</td>\n",
              "      <td>134201</td>\n",
              "      <td>6363442</td>\n",
              "    </tr>\n",
              "  </tbody>\n",
              "</table>\n",
              "<p>9041 rows × 9 columns</p>\n",
              "</div>\n",
              "      <button class=\"colab-df-convert\" onclick=\"convertToInteractive('df-93673ea8-fa74-45bc-a6a0-a32c7c2a0df6')\"\n",
              "              title=\"Convert this dataframe to an interactive table.\"\n",
              "              style=\"display:none;\">\n",
              "        \n",
              "  <svg xmlns=\"http://www.w3.org/2000/svg\" height=\"24px\"viewBox=\"0 0 24 24\"\n",
              "       width=\"24px\">\n",
              "    <path d=\"M0 0h24v24H0V0z\" fill=\"none\"/>\n",
              "    <path d=\"M18.56 5.44l.94 2.06.94-2.06 2.06-.94-2.06-.94-.94-2.06-.94 2.06-2.06.94zm-11 1L8.5 8.5l.94-2.06 2.06-.94-2.06-.94L8.5 2.5l-.94 2.06-2.06.94zm10 10l.94 2.06.94-2.06 2.06-.94-2.06-.94-.94-2.06-.94 2.06-2.06.94z\"/><path d=\"M17.41 7.96l-1.37-1.37c-.4-.4-.92-.59-1.43-.59-.52 0-1.04.2-1.43.59L10.3 9.45l-7.72 7.72c-.78.78-.78 2.05 0 2.83L4 21.41c.39.39.9.59 1.41.59.51 0 1.02-.2 1.41-.59l7.78-7.78 2.81-2.81c.8-.78.8-2.07 0-2.86zM5.41 20L4 18.59l7.72-7.72 1.47 1.35L5.41 20z\"/>\n",
              "  </svg>\n",
              "      </button>\n",
              "      \n",
              "  <style>\n",
              "    .colab-df-container {\n",
              "      display:flex;\n",
              "      flex-wrap:wrap;\n",
              "      gap: 12px;\n",
              "    }\n",
              "\n",
              "    .colab-df-convert {\n",
              "      background-color: #E8F0FE;\n",
              "      border: none;\n",
              "      border-radius: 50%;\n",
              "      cursor: pointer;\n",
              "      display: none;\n",
              "      fill: #1967D2;\n",
              "      height: 32px;\n",
              "      padding: 0 0 0 0;\n",
              "      width: 32px;\n",
              "    }\n",
              "\n",
              "    .colab-df-convert:hover {\n",
              "      background-color: #E2EBFA;\n",
              "      box-shadow: 0px 1px 2px rgba(60, 64, 67, 0.3), 0px 1px 3px 1px rgba(60, 64, 67, 0.15);\n",
              "      fill: #174EA6;\n",
              "    }\n",
              "\n",
              "    [theme=dark] .colab-df-convert {\n",
              "      background-color: #3B4455;\n",
              "      fill: #D2E3FC;\n",
              "    }\n",
              "\n",
              "    [theme=dark] .colab-df-convert:hover {\n",
              "      background-color: #434B5C;\n",
              "      box-shadow: 0px 1px 3px 1px rgba(0, 0, 0, 0.15);\n",
              "      filter: drop-shadow(0px 1px 2px rgba(0, 0, 0, 0.3));\n",
              "      fill: #FFFFFF;\n",
              "    }\n",
              "  </style>\n",
              "\n",
              "      <script>\n",
              "        const buttonEl =\n",
              "          document.querySelector('#df-93673ea8-fa74-45bc-a6a0-a32c7c2a0df6 button.colab-df-convert');\n",
              "        buttonEl.style.display =\n",
              "          google.colab.kernel.accessAllowed ? 'block' : 'none';\n",
              "\n",
              "        async function convertToInteractive(key) {\n",
              "          const element = document.querySelector('#df-93673ea8-fa74-45bc-a6a0-a32c7c2a0df6');\n",
              "          const dataTable =\n",
              "            await google.colab.kernel.invokeFunction('convertToInteractive',\n",
              "                                                     [key], {});\n",
              "          if (!dataTable) return;\n",
              "\n",
              "          const docLinkHtml = 'Like what you see? Visit the ' +\n",
              "            '<a target=\"_blank\" href=https://colab.research.google.com/notebooks/data_table.ipynb>data table notebook</a>'\n",
              "            + ' to learn more about interactive tables.';\n",
              "          element.innerHTML = '';\n",
              "          dataTable['output_type'] = 'display_data';\n",
              "          await google.colab.output.renderOutput(dataTable, element);\n",
              "          const docLink = document.createElement('div');\n",
              "          docLink.innerHTML = docLinkHtml;\n",
              "          element.appendChild(docLink);\n",
              "        }\n",
              "      </script>\n",
              "    </div>\n",
              "  </div>\n",
              "  "
            ]
          },
          "metadata": {},
          "execution_count": 70
        }
      ]
    }
  ]
}